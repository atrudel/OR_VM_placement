{
 "cells": [
  {
   "cell_type": "code",
   "execution_count": 16,
   "metadata": {
    "collapsed": true
   },
   "outputs": [
    {
     "name": "stdout",
     "output_type": "stream",
     "text": [
      "The autoreload extension is already loaded. To reload it, use:\n",
      "  %reload_ext autoreload\n"
     ]
    }
   ],
   "source": [
    "import pandas as pd\n",
    "\n",
    "%load_ext autoreload\n",
    "%autoreload 2\n",
    "from vm_placement.lp_models.nominal_model import NominalModel\n",
    "from vm_placement.data_handling.data_loader import Data\n"
   ]
  },
  {
   "cell_type": "markdown",
   "source": [
    "## Dataset creation\n",
    "We need to create a smaller dataset with 15 VMs for the exact computations to be tractable."
   ],
   "metadata": {
    "collapsed": false
   }
  },
  {
   "cell_type": "code",
   "execution_count": 21,
   "outputs": [
    {
     "name": "stdout",
     "output_type": "stream",
     "text": [
      "Filtered out 33 VMs with vCPU > 16\n",
      "Filtered out 0 VMs with Memory > 96\n",
      "Filtered out 112 VMs with Storage > 428\n",
      "Sampled 15 VMs from the dataset (with seed=0)\n"
     ]
    }
   ],
   "source": [
    "server_capacity = pd.DataFrame({\n",
    "        'vCPU': [16],\n",
    "        'Memory': [32],\n",
    "        'Storage': [256]\n",
    "    })\n",
    "data = Data('data/vm_data.csv', server_capacity, 1) \\\n",
    "        .filter_vms_by_resource('vCPU', 16) \\\n",
    "        .filter_vms_by_resource('Memory', 96) \\\n",
    "        .filter_vms_by_resource('Storage', 428) \\\n",
    "        .subset_vms(15, seed=0)"
   ],
   "metadata": {
    "collapsed": false
   }
  },
  {
   "cell_type": "code",
   "execution_count": 22,
   "outputs": [
    {
     "data": {
      "text/plain": "    index  vCPU  Memory  Storage  Class\n0     503     1     8.0   146.00      3\n1     645     4     4.0    32.00      3\n2     245    16    32.0   251.00      2\n3     142     2     4.0    10.23      2\n4     493     4     8.0    10.23      3\n5     358     2     4.0    10.23      2\n6     621     1     1.0    50.00      3\n7      40     2     4.0    10.23      1\n8     369     2     8.0    64.00      2\n9      85     4     8.0    10.23      2\n10    175     2     4.0    50.00      2\n11    517     2     4.0    10.23      3\n12    352     2     4.0   250.00      2\n13    452     8    16.0    10.22      3\n14    693     4     4.0    50.00      3",
      "text/html": "<div>\n<style scoped>\n    .dataframe tbody tr th:only-of-type {\n        vertical-align: middle;\n    }\n\n    .dataframe tbody tr th {\n        vertical-align: top;\n    }\n\n    .dataframe thead th {\n        text-align: right;\n    }\n</style>\n<table border=\"1\" class=\"dataframe\">\n  <thead>\n    <tr style=\"text-align: right;\">\n      <th></th>\n      <th>index</th>\n      <th>vCPU</th>\n      <th>Memory</th>\n      <th>Storage</th>\n      <th>Class</th>\n    </tr>\n  </thead>\n  <tbody>\n    <tr>\n      <th>0</th>\n      <td>503</td>\n      <td>1</td>\n      <td>8.0</td>\n      <td>146.00</td>\n      <td>3</td>\n    </tr>\n    <tr>\n      <th>1</th>\n      <td>645</td>\n      <td>4</td>\n      <td>4.0</td>\n      <td>32.00</td>\n      <td>3</td>\n    </tr>\n    <tr>\n      <th>2</th>\n      <td>245</td>\n      <td>16</td>\n      <td>32.0</td>\n      <td>251.00</td>\n      <td>2</td>\n    </tr>\n    <tr>\n      <th>3</th>\n      <td>142</td>\n      <td>2</td>\n      <td>4.0</td>\n      <td>10.23</td>\n      <td>2</td>\n    </tr>\n    <tr>\n      <th>4</th>\n      <td>493</td>\n      <td>4</td>\n      <td>8.0</td>\n      <td>10.23</td>\n      <td>3</td>\n    </tr>\n    <tr>\n      <th>5</th>\n      <td>358</td>\n      <td>2</td>\n      <td>4.0</td>\n      <td>10.23</td>\n      <td>2</td>\n    </tr>\n    <tr>\n      <th>6</th>\n      <td>621</td>\n      <td>1</td>\n      <td>1.0</td>\n      <td>50.00</td>\n      <td>3</td>\n    </tr>\n    <tr>\n      <th>7</th>\n      <td>40</td>\n      <td>2</td>\n      <td>4.0</td>\n      <td>10.23</td>\n      <td>1</td>\n    </tr>\n    <tr>\n      <th>8</th>\n      <td>369</td>\n      <td>2</td>\n      <td>8.0</td>\n      <td>64.00</td>\n      <td>2</td>\n    </tr>\n    <tr>\n      <th>9</th>\n      <td>85</td>\n      <td>4</td>\n      <td>8.0</td>\n      <td>10.23</td>\n      <td>2</td>\n    </tr>\n    <tr>\n      <th>10</th>\n      <td>175</td>\n      <td>2</td>\n      <td>4.0</td>\n      <td>50.00</td>\n      <td>2</td>\n    </tr>\n    <tr>\n      <th>11</th>\n      <td>517</td>\n      <td>2</td>\n      <td>4.0</td>\n      <td>10.23</td>\n      <td>3</td>\n    </tr>\n    <tr>\n      <th>12</th>\n      <td>352</td>\n      <td>2</td>\n      <td>4.0</td>\n      <td>250.00</td>\n      <td>2</td>\n    </tr>\n    <tr>\n      <th>13</th>\n      <td>452</td>\n      <td>8</td>\n      <td>16.0</td>\n      <td>10.22</td>\n      <td>3</td>\n    </tr>\n    <tr>\n      <th>14</th>\n      <td>693</td>\n      <td>4</td>\n      <td>4.0</td>\n      <td>50.00</td>\n      <td>3</td>\n    </tr>\n  </tbody>\n</table>\n</div>"
     },
     "execution_count": 22,
     "metadata": {},
     "output_type": "execute_result"
    }
   ],
   "source": [
    "data.vm_data"
   ],
   "metadata": {
    "collapsed": false
   }
  },
  {
   "cell_type": "markdown",
   "source": [
    "## Linear relaxation"
   ],
   "metadata": {
    "collapsed": false
   }
  },
  {
   "cell_type": "code",
   "execution_count": 23,
   "outputs": [
    {
     "name": "stdout",
     "output_type": "stream",
     "text": [
      "\n",
      "██╗   ██╗███╗   ███╗    ██████╗ ██╗      █████╗  ██████╗███████╗███╗   ███╗███████╗███╗   ██╗████████╗\n",
      "██║   ██║████╗ ████║    ██╔══██╗██║     ██╔══██╗██╔════╝██╔════╝████╗ ████║██╔════╝████╗  ██║╚══██╔══╝\n",
      "██║   ██║██╔████╔██║    ██████╔╝██║     ███████║██║     █████╗  ██╔████╔██║█████╗  ██╔██╗ ██║   ██║   \n",
      "╚██╗ ██╔╝██║╚██╔╝██║    ██╔═══╝ ██║     ██╔══██║██║     ██╔══╝  ██║╚██╔╝██║██╔══╝  ██║╚██╗██║   ██║   \n",
      " ╚████╔╝ ██║ ╚═╝ ██║    ██║     ███████╗██║  ██║╚██████╗███████╗██║ ╚═╝ ██║███████╗██║ ╚████║   ██║   \n",
      "  ╚═══╝  ╚═╝     ╚═╝    ╚═╝     ╚══════╝╚═╝  ╚═╝ ╚═════╝╚══════╝╚═╝     ╚═╝╚══════╝╚═╝  ╚═══╝   ╚═╝      \n",
      "        \n",
      "Instianting model with 15 VMs and 1 server specification(s)...\n",
      "Launching solving with glpk... [verbose off]\n",
      "Best solution found: 4.0\n"
     ]
    }
   ],
   "source": [
    "lp_model = NominalModel(linear_relaxation=True)\n",
    "model, solution = lp_model.solve(data)"
   ],
   "metadata": {
    "collapsed": false
   }
  },
  {
   "cell_type": "markdown",
   "source": [
    "## Exact solution\n"
   ],
   "metadata": {
    "collapsed": false
   }
  },
  {
   "cell_type": "code",
   "execution_count": 24,
   "outputs": [
    {
     "name": "stdout",
     "output_type": "stream",
     "text": [
      "\n",
      "██╗   ██╗███╗   ███╗    ██████╗ ██╗      █████╗  ██████╗███████╗███╗   ███╗███████╗███╗   ██╗████████╗\n",
      "██║   ██║████╗ ████║    ██╔══██╗██║     ██╔══██╗██╔════╝██╔════╝████╗ ████║██╔════╝████╗  ██║╚══██╔══╝\n",
      "██║   ██║██╔████╔██║    ██████╔╝██║     ███████║██║     █████╗  ██╔████╔██║█████╗  ██╔██╗ ██║   ██║   \n",
      "╚██╗ ██╔╝██║╚██╔╝██║    ██╔═══╝ ██║     ██╔══██║██║     ██╔══╝  ██║╚██╔╝██║██╔══╝  ██║╚██╗██║   ██║   \n",
      " ╚████╔╝ ██║ ╚═╝ ██║    ██║     ███████╗██║  ██║╚██████╗███████╗██║ ╚═╝ ██║███████╗██║ ╚████║   ██║   \n",
      "  ╚═══╝  ╚═╝     ╚═╝    ╚═╝     ╚══════╝╚═╝  ╚═╝ ╚═════╝╚══════╝╚═╝     ╚═╝╚══════╝╚═╝  ╚═══╝   ╚═╝      \n",
      "        \n",
      "Instianting model with 15 VMs and 1 server specification(s)...\n",
      "Launching solving with glpk... [verbose off]\n",
      "Best solution found: 5.0\n"
     ]
    }
   ],
   "source": [
    "lp_model = NominalModel(linear_relaxation=False)\n",
    "model, solution = lp_model.solve(data)"
   ],
   "metadata": {
    "collapsed": false
   }
  },
  {
   "cell_type": "code",
   "execution_count": null,
   "outputs": [],
   "source": [],
   "metadata": {
    "collapsed": false
   }
  }
 ],
 "metadata": {
  "kernelspec": {
   "display_name": "Python 3",
   "language": "python",
   "name": "python3"
  },
  "language_info": {
   "codemirror_mode": {
    "name": "ipython",
    "version": 2
   },
   "file_extension": ".py",
   "mimetype": "text/x-python",
   "name": "python",
   "nbconvert_exporter": "python",
   "pygments_lexer": "ipython2",
   "version": "2.7.6"
  }
 },
 "nbformat": 4,
 "nbformat_minor": 0
}
